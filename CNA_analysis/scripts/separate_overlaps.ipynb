{
 "cells": [
  {
   "cell_type": "code",
   "execution_count": 10,
   "id": "0a0c685f-d6fb-43c0-84fc-3afbb360a146",
   "metadata": {},
   "outputs": [],
   "source": [
    "import pandas as pd\n",
    "import glob\n",
    "import os"
   ]
  },
  {
   "cell_type": "code",
   "execution_count": 11,
   "id": "73577a22-998d-4921-8b97-f109085ad8ee",
   "metadata": {},
   "outputs": [],
   "source": [
    "base_path = os.getcwd()\n",
    "files = glob.glob(os.path.join(base_path, '*_overlaps.tsv'))"
   ]
  },
  {
   "cell_type": "code",
   "execution_count": 12,
   "id": "876f4b14-a50b-4983-811d-53f04a5dbfbe",
   "metadata": {},
   "outputs": [],
   "source": [
    "rdv = []\n",
    "mm = []"
   ]
  },
  {
   "cell_type": "code",
   "execution_count": 13,
   "id": "beddc636-3d6f-4308-8583-45a7aa15b864",
   "metadata": {},
   "outputs": [],
   "source": [
    "for file in files:\n",
    "    sample = os.path.basename(file).replace('_overlaps.tsv', '')\n",
    "    df = pd.read_csv(file, sep='\\t', header=None)\n",
    "\n",
    "    #column names, 0 to 3 from .seg and 4 to 7 from .bed\n",
    "    df.columns = ['chr', 'start', 'end', 'event', 'gene_chr', 'gene_start', 'gene_end', 'gene_name']\n",
    "\n",
    "    #group gene names by chromosome and event\n",
    "    grouped = df.groupby(['chr', 'event'])['gene_name'].unique().reset_index()\n",
    "    #removing 'RDV' or 'MM' from sample name\n",
    "    grouped['sample'] = sample.split('_')[-1]\n",
    "    grouped = grouped[['sample', 'chr', 'event', 'gene_name']]\n",
    "\n",
    "    #append to respective lists\n",
    "    if sample.startswith('RDV'):\n",
    "        rdv.append(grouped)\n",
    "    elif sample.startswith('MM'):\n",
    "        mm.append(grouped)"
   ]
  },
  {
   "cell_type": "code",
   "execution_count": 14,
   "id": "6afb68c2-1322-4de6-b4e0-a3812593a8e2",
   "metadata": {},
   "outputs": [],
   "source": [
    "rdv_df = pd.concat(rdv, ignore_index=True)\n",
    "mm_df = pd.concat(mm, ignore_index=True)"
   ]
  },
  {
   "cell_type": "code",
   "execution_count": 15,
   "id": "bbfbd8e6-9497-4c0c-958f-5ab09178f176",
   "metadata": {},
   "outputs": [],
   "source": [
    "rdv_df.to_csv('RDV_all_overlaps.csv', index=False)\n",
    "mm_df.to_csv('MM_all_overlaps.csv', index=False)"
   ]
  },
  {
   "cell_type": "code",
   "execution_count": null,
   "id": "dcbf12c4-5b1d-459a-bd6b-38f308756e4d",
   "metadata": {},
   "outputs": [],
   "source": []
  },
  {
   "cell_type": "code",
   "execution_count": null,
   "id": "6d8131cc-3ee4-42a4-93b5-75b4cd264038",
   "metadata": {},
   "outputs": [],
   "source": []
  }
 ],
 "metadata": {
  "kernelspec": {
   "display_name": "Python 3 (ipykernel)",
   "language": "python",
   "name": "python3"
  },
  "language_info": {
   "codemirror_mode": {
    "name": "ipython",
    "version": 3
   },
   "file_extension": ".py",
   "mimetype": "text/x-python",
   "name": "python",
   "nbconvert_exporter": "python",
   "pygments_lexer": "ipython3",
   "version": "3.12.7"
  }
 },
 "nbformat": 4,
 "nbformat_minor": 5
}
