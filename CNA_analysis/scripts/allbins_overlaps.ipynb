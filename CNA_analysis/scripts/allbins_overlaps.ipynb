{
 "cells": [
  {
   "cell_type": "code",
   "execution_count": 5,
   "id": "2d82b5ea-5ae3-4566-97ed-44ce55fb7fd6",
   "metadata": {},
   "outputs": [],
   "source": [
    "import pandas as pd\n",
    "import glob\n",
    "import os"
   ]
  },
  {
   "cell_type": "code",
   "execution_count": 3,
   "id": "b04a454f-afa5-44f3-8f8c-b7b80d652ffe",
   "metadata": {},
   "outputs": [],
   "source": [
    "binsizes = ['10kb', '50kb', '500kb', '1000kb']\n",
    "base_path = os.getcwd()\n"
   ]
  },
  {
   "cell_type": "code",
   "execution_count": 4,
   "id": "b9353c51-934e-4dfd-a861-a4db968397a0",
   "metadata": {},
   "outputs": [],
   "source": [
    "for binsize in binsizes:\n",
    "    files = glob.glob(os.path.join(base_path, f'*_{binsize}_overlaps.tsv'))\n",
    "    rdv = []\n",
    "    mms = []\n",
    "\n",
    "    for file in files:\n",
    "        sample = os.path.basename(file).replace(f'_{binsize}_overlaps.tsv', '')\n",
    "\n",
    "        # Rename MM → MMS universally\n",
    "        sample = sample.replace('MM', 'MMS')\n",
    "\n",
    "        # Read file\n",
    "        df = pd.read_csv(file, sep='\\t', header=None)\n",
    "\n",
    "        df.columns = ['chr', 'start', 'end', 'event', 'gene_chr', 'gene_start', 'gene_end', 'gene_name']\n",
    "\n",
    "        # Group genes\n",
    "        grouped = df.groupby(['chr', 'event'])['gene_name'].unique().reset_index()\n",
    "        grouped['sample'] = sample\n",
    "        grouped = grouped[['sample', 'chr', 'event', 'gene_name']]\n",
    "\n",
    "        # Assign to group\n",
    "        if 'RDV' in sample:\n",
    "            rdv.append(grouped)\n",
    "        elif 'MMS' in sample:\n",
    "            mms.append(grouped)\n",
    "\n",
    "    if rdv:\n",
    "        pd.concat(rdv, ignore_index=True).to_csv(f'RDV_{binsize}_overlaps.csv', index=False)\n",
    "    if mms:\n",
    "        pd.concat(mms, ignore_index=True).to_csv(f'MMS_{binsize}_overlaps.csv', index=False)"
   ]
  },
  {
   "cell_type": "code",
   "execution_count": null,
   "id": "59d67474-a00d-4bd8-9327-1b5da854d9c2",
   "metadata": {},
   "outputs": [],
   "source": []
  }
 ],
 "metadata": {
  "kernelspec": {
   "display_name": "Python 3 (ipykernel)",
   "language": "python",
   "name": "python3"
  },
  "language_info": {
   "codemirror_mode": {
    "name": "ipython",
    "version": 3
   },
   "file_extension": ".py",
   "mimetype": "text/x-python",
   "name": "python",
   "nbconvert_exporter": "python",
   "pygments_lexer": "ipython3",
   "version": "3.12.7"
  }
 },
 "nbformat": 4,
 "nbformat_minor": 5
}
