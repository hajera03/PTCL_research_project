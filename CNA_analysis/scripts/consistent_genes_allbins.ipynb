{
 "cells": [
  {
   "cell_type": "code",
   "execution_count": 45,
   "id": "904068dc-67a6-45e9-bb94-ce9eed0d0939",
   "metadata": {},
   "outputs": [],
   "source": [
    "import pandas as pd\n",
    "import glob\n",
    "import os\n",
    "from collections import defaultdict"
   ]
  },
  {
   "cell_type": "code",
   "execution_count": 46,
   "id": "b7f53d63-4b5c-4537-91bf-f9161e9f08c2",
   "metadata": {},
   "outputs": [],
   "source": [
    "base_path = os.getcwd()\n",
    "binsizes = ['10kb', '50kb', '500kb', '1000kb']\n",
    "sample_bins = {}\n",
    "sample_id_map = {\n",
    "    '4408_RDV': 'RDV',\n",
    "    '4658_MM': 'MMS',\n",
    "}"
   ]
  },
  {
   "cell_type": "code",
   "execution_count": 47,
   "id": "bb85e544-b67d-435d-91f3-8e4062f52a3a",
   "metadata": {},
   "outputs": [],
   "source": [
    "#read all overlap files and group genes by (chr, event)\n",
    "for binsize in binsizes:\n",
    "    files = glob.glob(os.path.join(base_path, f'*_{binsize}_overlaps.tsv'))\n",
    "\n",
    "    for file in files:\n",
    "        filename = os.path.basename(file)\n",
    "        #extracting sample ID\n",
    "        sample_prefix = filename.split(f'_{binsize}_')[0]\n",
    "        sample = sample_id_map.get(sample_prefix, sample_prefix)\n",
    "\n",
    "        \n",
    "        df = pd.read_csv(file, sep='\\t', header=None)\n",
    "        df.columns = ['chr', 'start', 'end', 'event', 'gene_chr', 'gene_start', 'gene_end', 'gene_name']\n",
    "\n",
    "        grouped = df[['chr', 'event', 'gene_name']].drop_duplicates()\n",
    "\n",
    "        key = (sample, binsize)\n",
    "        sample_bins[key] = set(tuple(x) for x in grouped.values)\n"
   ]
  },
  {
   "cell_type": "code",
   "execution_count": 48,
   "id": "74e92c5c-ad35-4654-8255-932bc934fddb",
   "metadata": {},
   "outputs": [],
   "source": [
    "#consistent overlaps across all bins\n",
    "\n",
    "consistent_results = defaultdict(list)\n",
    "\n",
    "samples = set(s for s, _ in sample_bins.keys())\n",
    "\n",
    "for sample in samples:\n",
    "    #genes from the first binsize\n",
    "    common = sample_bins[(sample, binsizes[0])]\n",
    "    #other bins\n",
    "    for binsize in binsizes[1:]:\n",
    "        common = common.intersection(sample_bins[(sample, binsize)])\n",
    "    #save\n",
    "    for chr_, event, gene in common:\n",
    "        consistent_results[sample].append({\n",
    "            'chr': chr_,\n",
    "            'event': event,\n",
    "            'gene_name': gene\n",
    "        })"
   ]
  },
  {
   "cell_type": "code",
   "execution_count": 49,
   "id": "5d2ebcb8-0bed-4554-97df-1c7b9b03382f",
   "metadata": {},
   "outputs": [],
   "source": [
    "for sample, records in consistent_results.items():\n",
    "    outname = f\"{sample}_consistent_chr_event_gene_across_bins.csv\"\n",
    "    pd.DataFrame(records).to_csv(outname, sep='\\t', index=False)"
   ]
  },
  {
   "cell_type": "code",
   "execution_count": null,
   "id": "0937ac99-d653-4430-8ac6-69bc08e962f3",
   "metadata": {},
   "outputs": [],
   "source": []
  },
  {
   "cell_type": "code",
   "execution_count": null,
   "id": "e99a9a7e-2c53-4605-b322-9b4e6e0a9ce4",
   "metadata": {},
   "outputs": [],
   "source": []
  }
 ],
 "metadata": {
  "kernelspec": {
   "display_name": "Python 3 (ipykernel)",
   "language": "python",
   "name": "python3"
  },
  "language_info": {
   "codemirror_mode": {
    "name": "ipython",
    "version": 3
   },
   "file_extension": ".py",
   "mimetype": "text/x-python",
   "name": "python",
   "nbconvert_exporter": "python",
   "pygments_lexer": "ipython3",
   "version": "3.12.7"
  }
 },
 "nbformat": 4,
 "nbformat_minor": 5
}
