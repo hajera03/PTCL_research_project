{
 "cells": [
  {
   "cell_type": "code",
   "execution_count": 8,
   "id": "a395c1da-e2fc-445a-9a8a-18ce4539236e",
   "metadata": {},
   "outputs": [],
   "source": [
    "import pandas as pd\n",
    "import glob\n",
    "import os"
   ]
  },
  {
   "cell_type": "code",
   "execution_count": 9,
   "id": "91815029-07ee-4892-b363-5b6719fab68e",
   "metadata": {},
   "outputs": [],
   "source": [
    "base_path = os.getcwd()\n",
    "files = glob.glob(os.path.join(base_path, '*_overlaps.tsv'))\n",
    "summary = []"
   ]
  },
  {
   "cell_type": "code",
   "execution_count": 10,
   "id": "7c0737d5-9aca-4f4e-9384-f987616c0bae",
   "metadata": {},
   "outputs": [],
   "source": [
    "#iterating through each file\n",
    "for file in files:\n",
    "    sample = os.path.basename(file).replace('_overlaps.tsv', '')\n",
    "    df = pd.read_csv(file, sep='\\t', header=None)\n",
    "    \n",
    "    #defining columns, 0 to 3 from .seg and 4 to 7 from .bed\n",
    "    df.columns = ['chr', 'start', 'end', 'event', 'gene_chr', 'gene_start', 'gene_end', 'gene_name']\n",
    "\n",
    "    #groups all overlapping gene names for each unique chr and event combination\n",
    "    grouped = df.groupby(['chr', 'event'])['gene_name'].unique().reset_index()\n",
    "    grouped['sample'] = sample\n",
    "    \n",
    "    #reorder columns\n",
    "    summary.append(grouped[['sample', 'chr', 'event', 'gene_name']])"
   ]
  },
  {
   "cell_type": "code",
   "execution_count": 11,
   "id": "963f72b4-fa1b-4bc6-8eb7-903ac71c9f31",
   "metadata": {},
   "outputs": [],
   "source": [
    "final = pd.concat(summary, ignore_index=True)"
   ]
  },
  {
   "cell_type": "code",
   "execution_count": 12,
   "id": "7fb10c98-073c-496a-81e5-6847afaa348e",
   "metadata": {},
   "outputs": [],
   "source": [
    "final.to_csv('RDV_MMS_all_overlaps.csv', index=False)"
   ]
  },
  {
   "cell_type": "code",
   "execution_count": null,
   "id": "49c43c42-67ba-40c9-ba86-167d0c10fde5",
   "metadata": {},
   "outputs": [],
   "source": []
  }
 ],
 "metadata": {
  "kernelspec": {
   "display_name": "Python 3 (ipykernel)",
   "language": "python",
   "name": "python3"
  },
  "language_info": {
   "codemirror_mode": {
    "name": "ipython",
    "version": 3
   },
   "file_extension": ".py",
   "mimetype": "text/x-python",
   "name": "python",
   "nbconvert_exporter": "python",
   "pygments_lexer": "ipython3",
   "version": "3.12.7"
  }
 },
 "nbformat": 4,
 "nbformat_minor": 5
}
