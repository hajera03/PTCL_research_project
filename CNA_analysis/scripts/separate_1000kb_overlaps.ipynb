{
 "cells": [
  {
   "cell_type": "code",
   "execution_count": 26,
   "id": "ed936c08-d7eb-4b70-a6a1-7e8c7d369b9d",
   "metadata": {},
   "outputs": [],
   "source": [
    "import pandas as pd\n",
    "import glob\n",
    "import os"
   ]
  },
  {
   "cell_type": "code",
   "execution_count": 27,
   "id": "50489c47-ad38-4d7a-b6f9-493c9e8b6d0d",
   "metadata": {},
   "outputs": [],
   "source": [
    "base_path = os.getcwd()\n",
    "files = glob.glob(os.path.join(base_path, '*_1000kb_overlaps.tsv'))"
   ]
  },
  {
   "cell_type": "code",
   "execution_count": 28,
   "id": "cd5fec38-3af1-45a2-910f-0e2beb112460",
   "metadata": {},
   "outputs": [],
   "source": [
    "rdv = []\n",
    "mm = []"
   ]
  },
  {
   "cell_type": "code",
   "execution_count": 29,
   "id": "31848015-cd81-41a8-8325-02139c314fd9",
   "metadata": {},
   "outputs": [],
   "source": [
    "for file in files:\n",
    "    sample = os.path.basename(file).replace('_1000kb_overlaps.tsv', '')\n",
    "    df = pd.read_csv(file, sep='\\t', header=None)\n",
    "\n",
    "    #col 0 to 3 from .seg and 4 to 7 from .bed\n",
    "    df.columns = ['chr', 'start', 'end', 'event', 'gene_chr', 'gene_start', 'gene_end', 'gene_name']\n",
    "    \n",
    "    #groups data by chr and even and then collects unique gene names in each group\n",
    "    grouped = df.groupby(['chr', 'event'])['gene_name'].unique().reset_index()\n",
    "\n",
    "    #append to respective lists\n",
    "    if 'RDV' in os.path.basename(file):\n",
    "        rdv.append(grouped)\n",
    "    elif 'MM' in os.path.basename(file):\n",
    "        mm.append(grouped)"
   ]
  },
  {
   "cell_type": "code",
   "execution_count": 30,
   "id": "7ba3c490-b60b-48db-97d3-46a1632dd521",
   "metadata": {},
   "outputs": [],
   "source": [
    "rdv_df = pd.concat(rdv, ignore_index=True)\n",
    "mm_df = pd.concat(mm, ignore_index=True)"
   ]
  },
  {
   "cell_type": "code",
   "execution_count": 31,
   "id": "5578b948-59ee-4f25-95f1-ab1573296eb5",
   "metadata": {},
   "outputs": [],
   "source": [
    "rdv_df.to_csv('RDV_1000kb_overlaps.csv', index=False)\n",
    "mm_df.to_csv('MM_1000kb_overlaps.csv', index=False)"
   ]
  },
  {
   "cell_type": "code",
   "execution_count": null,
   "id": "ed77be41-e2c0-435f-9e85-075db69ca96f",
   "metadata": {},
   "outputs": [],
   "source": []
  }
 ],
 "metadata": {
  "kernelspec": {
   "display_name": "Python 3 (ipykernel)",
   "language": "python",
   "name": "python3"
  },
  "language_info": {
   "codemirror_mode": {
    "name": "ipython",
    "version": 3
   },
   "file_extension": ".py",
   "mimetype": "text/x-python",
   "name": "python",
   "nbconvert_exporter": "python",
   "pygments_lexer": "ipython3",
   "version": "3.12.7"
  }
 },
 "nbformat": 4,
 "nbformat_minor": 5
}
